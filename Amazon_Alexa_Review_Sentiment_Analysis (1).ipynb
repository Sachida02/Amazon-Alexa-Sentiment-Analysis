{
  "nbformat": 4,
  "nbformat_minor": 0,
  "metadata": {
    "colab": {
      "provenance": []
    },
    "kernelspec": {
      "name": "python3",
      "display_name": "Python 3"
    },
    "language_info": {
      "name": "python"
    }
  },
  "cells": [
    {
      "cell_type": "code",
      "execution_count": null,
      "metadata": {
        "id": "8eIaP5bFc_1i"
      },
      "outputs": [],
      "source": [
        "import numpy as np\n",
        "import pandas as pd\n",
        "import seaborn as sns\n",
        "import matplotlib.pyplot as plt\n",
        "%matplotlib inline\n",
        "import warnings\n",
        "\n",
        "import re\n",
        "import nltk\n",
        "nltk.download('stopwords')\n",
        "from wordcloud import WordCloud\n",
        "from nltk.corpus import stopwords\n",
        "from nltk.stem.porter import PorterStemmer\n",
        "from sklearn.metrics import confusion_matrix\n",
        "from sklearn.preprocessing import MinMaxScaler\n",
        "from sklearn.model_selection import GridSearchCV\n",
        "from sklearn.model_selection import train_test_split\n",
        "from sklearn.ensemble import RandomForestClassifier\n",
        "from sklearn.feature_extraction.text import CountVectorizer\n",
        "\n",
        "warnings.filterwarnings('ignore')\n",
        "sns.set_style('darkgrid')\n",
        "plt.rcParams['figure.figsize'] = (10, 6)"
      ]
    },
    {
      "cell_type": "code",
      "source": [
        "''' reading data '''\n",
        "df = pd.read_csv('amazon_alexa.tsv', delimiter='\\t')"
      ],
      "metadata": {
        "id": "KAcMWpRmmOcH"
      },
      "execution_count": null,
      "outputs": []
    },
    {
      "cell_type": "code",
      "source": [
        "df.head()"
      ],
      "metadata": {
        "id": "5REPRN5Lm6pA"
      },
      "execution_count": null,
      "outputs": []
    },
    {
      "cell_type": "code",
      "source": [
        "df.isnull().sum()"
      ],
      "metadata": {
        "id": "hU2I_AkCnOAB",
        "collapsed": true
      },
      "execution_count": null,
      "outputs": []
    },
    {
      "cell_type": "code",
      "source": [
        "df.info()"
      ],
      "metadata": {
        "id": "fTQvZyzfnS53",
        "collapsed": true
      },
      "execution_count": null,
      "outputs": []
    },
    {
      "cell_type": "code",
      "source": [
        "''' value counts of variation '''\n",
        "variation_label = df.variation.value_counts()[:5]\n",
        "print(variation_label)\n",
        "\n",
        "''' plotting top 5 variation '''\n",
        "plt.figure(figsize=(10, 5))\n",
        "sns.barplot(x=variation_label.index, y=variation_label);\n",
        "plt.xlabel('Variation', fontsize=20)\n",
        "plt.ylabel('Count', fontsize=20)\n",
        "plt.title('Top 5 Variation', fontsize=20);"
      ],
      "metadata": {
        "id": "yDc_gOvRnYTo",
        "collapsed": true
      },
      "execution_count": null,
      "outputs": []
    },
    {
      "cell_type": "code",
      "source": [
        "df.shape"
      ],
      "metadata": {
        "id": "MlBCbF3WnhfM"
      },
      "execution_count": null,
      "outputs": []
    },
    {
      "cell_type": "code",
      "source": [
        "df['len']=df['verified_reviews'].map(len)\n",
        "df['len']"
      ],
      "metadata": {
        "id": "X77RNT7vpX7_"
      },
      "execution_count": null,
      "outputs": []
    },
    {
      "cell_type": "code",
      "source": [
        "''' displaying data based on len '''\n",
        "df.groupby('len').describe().sample(10)"
      ],
      "metadata": {
        "id": "d0LQeP2zpjsW"
      },
      "execution_count": null,
      "outputs": []
    },
    {
      "cell_type": "code",
      "source": [
        "'''displaying the data according to the Ratings '''\n",
        "df.groupby('rating').describe()"
      ],
      "metadata": {
        "id": "oE-VvK3LpqHp"
      },
      "execution_count": null,
      "outputs": []
    },
    {
      "cell_type": "code",
      "source": [
        "''' displaying data based according to the feedback '''\n",
        "df.groupby('feedback').describe()"
      ],
      "metadata": {
        "id": "HVlWHvtgpxtw"
      },
      "execution_count": null,
      "outputs": []
    },
    {
      "cell_type": "code",
      "source": [
        "''' visualization '''\n",
        "\n",
        "\n",
        "''' value counts of rating '''\n",
        "rating_label = df.rating.value_counts()\n",
        "print(rating_label)\n",
        "\n",
        "''' barplot '''\n",
        "plt.figure(figsize=(10, 5))\n",
        "sns.barplot(x=rating_label.index, y=rating_label);\n",
        "plt.xlabel('Rating', fontsize=20)\n",
        "plt.ylabel('Count', fontsize=20);\n",
        "plt.title('Bar Plot of Ratings', fontsize=20);"
      ],
      "metadata": {
        "id": "cVbTb4ZJp0bt"
      },
      "execution_count": null,
      "outputs": []
    },
    {
      "cell_type": "code",
      "source": [
        "''' histogram plot of len of reivews '''\n",
        "len_label = df['len'].value_counts()\n",
        "plt.figure(figsize=(10, 5))\n",
        "sns.histplot(len_label, bins=50, color='skyblue');\n",
        "plt.xlabel('Length', fontsize=20)\n",
        "plt.ylabel('Count', fontsize=20);\n",
        "plt.title('Distribution of Lenght in Revies', fontsize=20);"
      ],
      "metadata": {
        "id": "qZvShHfbp38o"
      },
      "execution_count": null,
      "outputs": []
    },
    {
      "cell_type": "code",
      "source": [
        "''' Let's Check some of the reviews according to thier lengths '''\n",
        "df[df.len == 1]['verified_reviews'].iloc[0]"
      ],
      "metadata": {
        "id": "fFemphriqeR4"
      },
      "execution_count": null,
      "outputs": []
    },
    {
      "cell_type": "code",
      "source": [
        "df[df['len'] == 150]['verified_reviews'].iloc[0]"
      ],
      "metadata": {
        "id": "R5XPGoGEqn0T"
      },
      "execution_count": null,
      "outputs": []
    },
    {
      "cell_type": "code",
      "source": [
        "df[df['len'] == 50]['verified_reviews'].iloc[0]"
      ],
      "metadata": {
        "id": "pF7Q6WseqrGQ"
      },
      "execution_count": null,
      "outputs": []
    },
    {
      "cell_type": "code",
      "source": [
        "df[df['len'] == 25]['verified_reviews'].iloc[0]"
      ],
      "metadata": {
        "id": "-_KxXnS1q1vG"
      },
      "execution_count": null,
      "outputs": []
    },
    {
      "cell_type": "code",
      "source": [
        "''' box plot '''\n",
        "plt.figure(figsize=(10, 5))\n",
        "sns.boxplot(x=df['rating'], y=df['len'], palette = 'Blues')\n",
        "plt.title(\"Length vs Ratings\", fontsize=20)\n",
        "plt.xlabel('rating', fontsize=20)\n",
        "plt.ylabel('len', fontsize=20);"
      ],
      "metadata": {
        "id": "rMdk6UOIq5a9"
      },
      "execution_count": null,
      "outputs": []
    },
    {
      "cell_type": "code",
      "source": [
        "''' violin plot '''\n",
        "plt.figure(figsize=(10, 5))\n",
        "sns.violinplot(x=df['feedback'], y=df['rating'], palette = 'cool')\n",
        "plt.title(\"feedback vs Ratings\", fontsize=20)\n",
        "plt.xlabel('feedback', fontsize=20)\n",
        "plt.ylabel('rating', fontsize=20);"
      ],
      "metadata": {
        "id": "_1dGbqHcq-su"
      },
      "execution_count": null,
      "outputs": []
    },
    {
      "cell_type": "code",
      "source": [
        "''' swarmplot '''\n",
        "plt.figure(figsize=(10, 5))\n",
        "sns.swarmplot(x=df['variation'], y=df['len'], palette = 'deep')\n",
        "plt.title(\"Variation vs Length of Ratings\", fontsize=20)\n",
        "plt.xticks(rotation = 45);\n",
        "plt.xlabel('variation', fontsize=20)\n",
        "plt.ylabel('len', fontsize=20);"
      ],
      "metadata": {
        "id": "qXP-hAXKrNY6"
      },
      "execution_count": null,
      "outputs": []
    },
    {
      "cell_type": "code",
      "source": [
        "''' bivariate analysis '''\n",
        "plt.figure(figsize=(10, 5))\n",
        "sns.boxenplot(x=df['variation'], y= df['rating'], palette = 'pastel')\n",
        "plt.title(\"Variation vs Ratings\", fontsize=20)\n",
        "plt.xticks(rotation = 70);\n",
        "plt.xlabel('Variation', fontsize=20)\n",
        "plt.ylabel('Rating', fontsize=20);"
      ],
      "metadata": {
        "id": "JUxtEuGNrYOm"
      },
      "execution_count": null,
      "outputs": []
    },
    {
      "cell_type": "code",
      "source": [
        "''' preprocessing of text '''\n",
        "\n",
        "''' CountVectorrizer '''\n",
        "count_vector = CountVectorizer(stop_words='english')\n",
        "\n",
        "ws = count_vector.fit_transform(df.verified_reviews)\n",
        "s_w = ws.sum(axis=0)\n",
        "w_f = [(w, s_w[0, idx]) for w, idx in count_vector.vocabulary_.items()]\n",
        "w_f = sorted(w_f, key = lambda x: x[1], reverse = True)\n",
        "\n",
        "''' creating dataframe '''\n",
        "freq = pd.DataFrame(w_f, columns=['word', 'freq'])"
      ],
      "metadata": {
        "id": "XKghgQIsrs5I"
      },
      "execution_count": null,
      "outputs": []
    },
    {
      "cell_type": "code",
      "source": [
        "''' barplot of top 50 frequently occuring words '''\n",
        "color = plt.cm.ocean(np.linspace(0, 1, 20))\n",
        "freq.head(50).plot(x='word', y='freq', kind='bar', figsize=(15, 6), color = color)\n",
        "plt.title(\"Most Frequently Occuring Words - Top 50\", fontsize=20)\n",
        "plt.xlabel('word', fontsize=20)\n",
        "plt.ylabel('length', fontsize=20);"
      ],
      "metadata": {
        "id": "3TSD4Y9dseXB"
      },
      "execution_count": null,
      "outputs": []
    },
    {
      "cell_type": "code",
      "source": [
        "''' representing words on WordCloud '''\n",
        "word_cloud = WordCloud(background_color='black', width=1500, height=1400).generate_from_frequencies(dict(w_f))\n",
        "plt.figure(figsize=(10, 10))\n",
        "plt.axis('off')\n",
        "plt.imshow(word_cloud)\n",
        "plt.title(\"Vocabulary from Reviews\", fontsize = 20);"
      ],
      "metadata": {
        "id": "AoaoZhausir5"
      },
      "execution_count": null,
      "outputs": []
    },
    {
      "cell_type": "code",
      "source": [
        "''' preproecessing '''\n",
        "c = []\n",
        "\n",
        "for i in range(0, 3150):\n",
        "    ''' removing characters except a-z and A-Z'''\n",
        "    r = re.sub('[^a-zA-Z]', ' ', df['verified_reviews'][i])\n",
        "    ''' converting every word into lower word'''\n",
        "    r = r.lower()\n",
        "    ''' splitting text '''\n",
        "    r = r.split()\n",
        "    ''' apllying Stemming '''\n",
        "    ps = PorterStemmer()\n",
        "    ''' removing stopwords '''\n",
        "    sw = stopwords.words('english')\n",
        "    sw.remove('not')\n",
        "    r = [ps.stem(word) for word in r if not word in set(sw)]\n",
        "    r = ' '.join(r)\n",
        "    c.append(r)"
      ],
      "metadata": {
        "id": "q-Gj8uAis3JE"
      },
      "execution_count": null,
      "outputs": []
    },
    {
      "cell_type": "code",
      "source": [
        "''' count vectorizer '''\n",
        "count_vector = CountVectorizer(max_features=2500)\n",
        "\n",
        "''' independent and dependent variables '''\n",
        "X = count_vector.fit_transform(c).toarray()\n",
        "y = df.iloc[:, 4].values\n",
        "\n",
        "''' checking shape '''\n",
        "print(X.shape)\n",
        "print(y.shape)"
      ],
      "metadata": {
        "id": "uYc-Ng8tta88"
      },
      "execution_count": null,
      "outputs": []
    },
    {
      "cell_type": "code",
      "source": [
        "''' train test split '''\n",
        "X_train, X_test, y_train, y_test = train_test_split(X, y, test_size=0.25, random_state=42)"
      ],
      "metadata": {
        "id": "USdQOhjDt8di"
      },
      "execution_count": null,
      "outputs": []
    },
    {
      "cell_type": "code",
      "source": [
        "print(\"shape of X_train: \", X_train.shape)\n",
        "print(\"shape of X_test: \", X_test.shape)"
      ],
      "metadata": {
        "id": "bWU8VxVCuAOC"
      },
      "execution_count": null,
      "outputs": []
    },
    {
      "cell_type": "code",
      "source": [
        "''' Min Max Scaler '''\n",
        "min_max_sc = MinMaxScaler()\n",
        "\n",
        "X_train = min_max_sc.fit_transform(X_train)\n",
        "X_test = min_max_sc.transform(X_test)"
      ],
      "metadata": {
        "id": "kBCnGo2JuC9Y"
      },
      "execution_count": null,
      "outputs": []
    },
    {
      "cell_type": "code",
      "source": [
        "''' Random Forest Classifier '''\n",
        "rf = RandomForestClassifier()\n",
        "\n",
        "''' fit on data '''\n",
        "rf.fit(X_train, y_train)\n",
        "\n",
        "''' prediction '''\n",
        "y_pred = rf.predict(X_test)\n",
        "\n",
        "''' confusion matrix '''\n",
        "plt.figure(figsize=(10, 10))\n",
        "sns.heatmap(confusion_matrix(y_test, y_pred), annot=True, fmt='g');\n",
        "plt.title('Confusion Matrix', fontsize=20);"
      ],
      "metadata": {
        "id": "6oATo7M4uJHF"
      },
      "execution_count": null,
      "outputs": []
    },
    {
      "cell_type": "code",
      "source": [
        "''' Hyperparameter Tunning '''\n",
        "\n",
        "p = {\n",
        "    'bootstrap': [True],\n",
        "    'max_depth': [80, 100],\n",
        "    'min_samples_split': [8, 12],\n",
        "    'n_estimators': [100, 300]\n",
        "}\n",
        "\n",
        "''' Grid Search CV '''\n",
        "grid_cv = GridSearchCV(estimator=rf, param_grid=p, cv=10, verbose=0, scoring='accuracy', n_jobs=-1,\n",
        "                       return_train_score=True)\n",
        "grid_cv.fit(X_train, y_train.ravel())"
      ],
      "metadata": {
        "id": "APTC7Gd4uQGT"
      },
      "execution_count": null,
      "outputs": []
    },
    {
      "cell_type": "code",
      "source": [
        "print(\"Best Parameter : {}\".format(grid_cv.best_params_))"
      ],
      "metadata": {
        "id": "kXs2oG8nuXt1"
      },
      "execution_count": null,
      "outputs": []
    },
    {
      "cell_type": "code",
      "source": [
        "rf_cv = RandomForestClassifier(bootstrap=True, max_depth=80, min_samples_split=8, n_estimators=300)\n",
        "\n",
        "''' fit on data '''\n",
        "rf_cv.fit(X_train, y_train)\n",
        "\n",
        "''' prediction '''\n",
        "pred = rf_cv.predict(X_test)"
      ],
      "metadata": {
        "id": "Qo1pB-HVw-Cm"
      },
      "execution_count": null,
      "outputs": []
    },
    {
      "cell_type": "code",
      "source": [
        "''' confusion matrix '''\n",
        "plt.figure(figsize=(10, 10))\n",
        "sns.heatmap(confusion_matrix(y_test, pred), annot=True, fmt='g');\n",
        "plt.title('Confusion Matrix', fontsize=20);"
      ],
      "metadata": {
        "id": "eEPYHYMvxAl3"
      },
      "execution_count": null,
      "outputs": []
    },
    {
      "cell_type": "code",
      "source": [],
      "metadata": {
        "id": "F_GeXPxLxHFQ"
      },
      "execution_count": null,
      "outputs": []
    }
  ]
}